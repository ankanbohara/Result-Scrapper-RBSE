{
 "cells": [
  {
   "cell_type": "code",
   "execution_count": 1,
   "metadata": {},
   "outputs": [],
   "source": [
    "import requests\n",
    "from bs4 import BeautifulSoup as bs\n",
    "from selenium import webdriver\n",
    "from selenium.webdriver.common.keys import Keys\n",
    "import pandas as pd\n",
    "from collections import defaultdict"
   ]
  },
  {
   "cell_type": "code",
   "execution_count": 2,
   "metadata": {},
   "outputs": [],
   "source": [
    "marks = defaultdict(lambda: defaultdict(lambda: defaultdict(int)))"
   ]
  },
  {
   "cell_type": "code",
   "execution_count": 3,
   "metadata": {},
   "outputs": [
    {
     "name": "stdout",
     "output_type": "stream",
     "text": [
      "Data for roll number 2557375 entered successfully\n",
      "Data for roll number 2557376 entered successfully\n",
      "Data for roll number 2557377 entered successfully\n",
      "Data for roll number 2557378 entered successfully\n",
      "Data for roll number 2557379 entered successfully\n",
      "Data for roll number 2557380 entered successfully\n",
      "Data for roll number 2557381 entered successfully\n",
      "Data for roll number 2557382 entered successfully\n",
      "Data for roll number 2557383 entered successfully\n",
      "Data for roll number 2557384 entered successfully\n",
      "Data for roll number 2557385 entered successfully\n",
      "Data for roll number 2557386 entered successfully\n",
      "Data for roll number 2557387 entered successfully\n",
      "Data for roll number 2557388 entered successfully\n",
      "Data for roll number 2557389 entered successfully\n",
      "Data for roll number 2557390 entered successfully\n",
      "Data for roll number 2557391 entered successfully\n",
      "Data for roll number 2557392 entered successfully\n",
      "Data for roll number 2557393 entered successfully\n",
      "Data for roll number 2557394 entered successfully\n",
      "Data for roll number 2557395 entered successfully\n",
      "Data for roll number 2557396 entered successfully\n",
      "Data for roll number 2557397 entered successfully\n",
      "Data for roll number 2557398 entered successfully\n",
      "Data for roll number 2557399 entered successfully\n",
      "Data for roll number 2557400 entered successfully\n",
      "Data for roll number 2557401 entered successfully\n",
      "Data for roll number 2557402 entered successfully\n",
      "Data for roll number 2557403 entered successfully\n",
      "Data for roll number 2557404 entered successfully\n",
      "Data for roll number 2557405 entered successfully\n",
      "Data for roll number 2557406 entered successfully\n",
      "Data for roll number 2557407 entered successfully\n",
      "Data for roll number 2557408 entered successfully\n",
      "Data for roll number 2557409 entered successfully\n",
      "Data for roll number 2557410 entered successfully\n",
      "Data for roll number 2557411 entered successfully\n",
      "Data for roll number 2557412 entered successfully\n",
      "Data for roll number 2557413 entered successfully\n",
      "Data for roll number 2557414 entered successfully\n",
      "Data for roll number 2557415 entered successfully\n",
      "Data for roll number 2557416 entered successfully\n",
      "Data for roll number 2557417 entered successfully\n",
      "Data for roll number 2557418 entered successfully\n",
      "Data for roll number 2557419 entered successfully\n",
      "Data for roll number 2557420 entered successfully\n",
      "Data for roll number 2557421 entered successfully\n",
      "Data for roll number 2557422 entered successfully\n",
      "Data for roll number 2557423 entered successfully\n",
      "Data for roll number 2557424 entered successfully\n",
      "Data for roll number 2557425 entered successfully\n",
      "Data for roll number 2557426 entered successfully\n",
      "Data for roll number 2557427 entered successfully\n",
      "Data for roll number 2557428 entered successfully\n",
      "Data for roll number 2557429 entered successfully\n",
      "Data for roll number 2557430 entered successfully\n",
      "Data for roll number 2557431 entered successfully\n",
      "Data for roll number 2557432 entered successfully\n",
      "Data for roll number 2557433 entered successfully\n",
      "Data for roll number 2557434 entered successfully\n",
      "Data for roll number 2557435 entered successfully\n",
      "Data for roll number 2557436 entered successfully\n",
      "Data for roll number 2557437 entered successfully\n",
      "Data for roll number 2557438 entered successfully\n",
      "Data for roll number 2557439 entered successfully\n",
      "Data for roll number 2557440 entered successfully\n",
      "Data for roll number 2557441 entered successfully\n",
      "Data for roll number 2557442 entered successfully\n",
      "Data for roll number 2557443 entered successfully\n",
      "Data for roll number 2557444 entered successfully\n",
      "Data for roll number 2557445 entered successfully\n",
      "Data for roll number 2557446 entered successfully\n",
      "Data for roll number 2557447 entered successfully\n",
      "Data for roll number 2557448 entered successfully\n",
      "Data for roll number 2557449 entered successfully\n",
      "Data for roll number 2557450 entered successfully\n",
      "Data for roll number 2557451 entered successfully\n",
      "Data for roll number 2557452 entered successfully\n",
      "Data for roll number 2557453 entered successfully\n",
      "Data for roll number 2557454 entered successfully\n",
      "Data for roll number 2557455 entered successfully\n",
      "Data for roll number 2557456 entered successfully\n",
      "Data for roll number 2557457 entered successfully\n",
      "Data for roll number 2557458 entered successfully\n",
      "Data for roll number 2557459 entered successfully\n",
      "Data for roll number 2557460 entered successfully\n",
      "Data for roll number 2557461 entered successfully\n",
      "Data for roll number 2557462 entered successfully\n",
      "Data for roll number 2557463 entered successfully\n",
      "Data for roll number 2557464 entered successfully\n",
      "Data for roll number 2557465 entered successfully\n",
      "Data for roll number 2557466 entered successfully\n",
      "Data for roll number 2557467 entered successfully\n",
      "Data for roll number 2557468 entered successfully\n",
      "Data for roll number 2557469 entered successfully\n",
      "Data for roll number 2557470 entered successfully\n",
      "Data for roll number 2557471 entered successfully\n",
      "Data for roll number 2557472 entered successfully\n",
      "Data for roll number 2557473 entered successfully\n",
      "Data for roll number 2557474 entered successfully\n",
      "Data for roll number 2557475 entered successfully\n",
      "Data for roll number 2557476 entered successfully\n",
      "Data for roll number 2557477 entered successfully\n",
      "Data for roll number 2557478 entered successfully\n",
      "Data for roll number 2557479 entered successfully\n",
      "Data for roll number 2557480 entered successfully\n",
      "Data for roll number 2557481 entered successfully\n",
      "Data for roll number 2557482 entered successfully\n",
      "Data for roll number 2557483 entered successfully\n",
      "Data for roll number 2557484 entered successfully\n",
      "Data for roll number 2557485 entered successfully\n"
     ]
    }
   ],
   "source": [
    "subject_list = [\"HINDI\",\"ENGLISH\",\"PHYSICS\",\"CHEMISTRY\",\"MATHEMATICS\"]\n",
    "marks_list = [\"TH\",\"SS\",\"TH+SS\",\"PR\",\"Total\"]\n",
    "roll_list = [i for i in range(2557375,2557486)]\n",
    "for roll in roll_list:\n",
    "    driver = webdriver.Chrome(executable_path='/home/ankan/Desktop/CSE15Res-master/chromedriver')\n",
    "    driver.get(\"http://rajresults.nic.in/sciencebser19.htm\")\n",
    "    username = driver.find_element_by_name(\"roll_no\")\n",
    "    username.send_keys(str(roll))\n",
    "# password.send_keys(\"Pa55worD\")\n",
    "    driver.find_element_by_name(\"B1\").click()\n",
    "    tbl = driver.find_element_by_xpath(\"/html/body/table/tbody/tr[2]/td/div/center/table[2]\").get_attribute('outerHTML')\n",
    "    df  = pd.read_html(tbl)\n",
    "    df = df[0]\n",
    "    for ind_m,m in enumerate(marks_list):\n",
    "        for ind_s,s in enumerate(subject_list):\n",
    "            marks[roll][s][m] = df[ind_m+1][ind_s+2]\n",
    "    print(\"Data for roll number\",roll,\"entered successfully.\")\n",
    "    driver.quit()"
   ]
  },
  {
   "cell_type": "code",
   "execution_count": 9,
   "metadata": {},
   "outputs": [],
   "source": [
    "data = defaultdict(list)\n",
    "for roll in marks:\n",
    "    suppli = False\n",
    "    fail = False\n",
    "    data[\"Roll_Number\"].append(roll)\n",
    "    for k in marks[roll]:\n",
    "        for l in marks[roll][k]:\n",
    "            data[k+\"_\"+l].append(marks[roll][k][l])\n",
    "            if 'F' in str(marks[roll][k][l]):\n",
    "                fail=True\n",
    "            elif 'S' in str(marks[roll][k][l]):\n",
    "                suppli=True\n",
    "    if fail:\n",
    "        data[\"Overall\"].append(\"Fail\")\n",
    "    elif suppli:\n",
    "        data[\"Overall\"].append(\"Supplimentary\")        \n",
    "    else:\n",
    "        data[\"Overall\"].append(\"Pass\")\n",
    "df2 = pd.DataFrame(data)\n",
    "df2.head()\n",
    "df2.to_csv(\"marks_ss.csv\",index=None,header=True)"
   ]
  },
  {
   "cell_type": "code",
   "execution_count": 14,
   "metadata": {},
   "outputs": [
    {
     "data": {
      "text/plain": [
       "2.7027027027027026"
      ]
     },
     "execution_count": 14,
     "metadata": {},
     "output_type": "execute_result"
    }
   ],
   "source": [
    "(len(df2[df2[\"Overall\"]==\"Supplimentary\"])/111)*100"
   ]
  },
  {
   "cell_type": "code",
   "execution_count": 23,
   "metadata": {},
   "outputs": [
    {
     "name": "stdout",
     "output_type": "stream",
     "text": [
      "111\n"
     ]
    }
   ],
   "source": [
    "cnt=0\n",
    "for m in df2[\"CHEMISTRY_Total\"]:\n",
    "    if str(m)[-1]=='F' or str(m)[-1]=='S':\n",
    "        print(m)\n",
    "    else:\n",
    "        cnt+=1\n",
    "print(cnt)"
   ]
  }
 ],
 "metadata": {
  "kernelspec": {
   "display_name": "Python 3",
   "language": "python",
   "name": "python3"
  },
  "language_info": {
   "codemirror_mode": {
    "name": "ipython",
    "version": 3
   },
   "file_extension": ".py",
   "mimetype": "text/x-python",
   "name": "python",
   "nbconvert_exporter": "python",
   "pygments_lexer": "ipython3",
   "version": "3.6.8"
  }
 },
 "nbformat": 4,
 "nbformat_minor": 2
}
